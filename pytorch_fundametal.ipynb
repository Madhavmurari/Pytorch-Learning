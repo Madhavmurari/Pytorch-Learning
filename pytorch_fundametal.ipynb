{
  "nbformat": 4,
  "nbformat_minor": 0,
  "metadata": {
    "colab": {
      "provenance": [],
      "toc_visible": true,
      "gpuType": "T4",
      "authorship_tag": "ABX9TyORfnrhHcoS17f5qulnvw99",
      "include_colab_link": true
    },
    "kernelspec": {
      "name": "python3",
      "display_name": "Python 3"
    },
    "language_info": {
      "name": "python"
    },
    "accelerator": "GPU"
  },
  "cells": [
    {
      "cell_type": "markdown",
      "metadata": {
        "id": "view-in-github",
        "colab_type": "text"
      },
      "source": [
        "<a href=\"https://colab.research.google.com/github/Madhavmurari/Pytorch-Learning/blob/main/pytorch_fundametal.ipynb\" target=\"_parent\"><img src=\"https://colab.research.google.com/assets/colab-badge.svg\" alt=\"Open In Colab\"/></a>"
      ]
    },
    {
      "cell_type": "code",
      "execution_count": null,
      "metadata": {
        "colab": {
          "base_uri": "https://localhost:8080/"
        },
        "id": "Z-uJW4ZVxjGf",
        "outputId": "0f791290-3567-4b94-ebcf-32c26e96edf7"
      },
      "outputs": [
        {
          "output_type": "stream",
          "name": "stdout",
          "text": [
            "2.4.1+cu121\n"
          ]
        }
      ],
      "source": [
        "import torch\n",
        "import pandas as pd\n",
        "import numpy as np\n",
        "import matplotlib.pyplot as plt\n",
        "print(torch.__version__)"
      ]
    },
    {
      "cell_type": "markdown",
      "source": [
        "## Intoduction to Tensor\n",
        "\n",
        "### creating tensors"
      ],
      "metadata": {
        "id": "Y68tMtvJ5EKl"
      }
    },
    {
      "cell_type": "code",
      "source": [
        "#scalar\n",
        "scalar=torch.tensor(7)\n",
        "scalar"
      ],
      "metadata": {
        "colab": {
          "base_uri": "https://localhost:8080/"
        },
        "id": "jwrT_e2K0qi5",
        "outputId": "dc0d68fd-4507-4768-d098-6d2bd9ede3a5"
      },
      "execution_count": null,
      "outputs": [
        {
          "output_type": "execute_result",
          "data": {
            "text/plain": [
              "tensor(7)"
            ]
          },
          "metadata": {},
          "execution_count": 14
        }
      ]
    },
    {
      "cell_type": "code",
      "source": [
        "scalar.ndim"
      ],
      "metadata": {
        "colab": {
          "base_uri": "https://localhost:8080/"
        },
        "id": "BHuC3XjS6fWs",
        "outputId": "86e29550-7005-49f0-8f1c-0075cba8d264"
      },
      "execution_count": null,
      "outputs": [
        {
          "output_type": "execute_result",
          "data": {
            "text/plain": [
              "0"
            ]
          },
          "metadata": {},
          "execution_count": 15
        }
      ]
    },
    {
      "cell_type": "code",
      "source": [
        "#Get Tensor Back as Python int\n",
        "scalar.item()"
      ],
      "metadata": {
        "colab": {
          "base_uri": "https://localhost:8080/"
        },
        "id": "x__VDXw76jUT",
        "outputId": "dab6966a-4b86-45ac-e4b2-c6dbd869a2f9"
      },
      "execution_count": null,
      "outputs": [
        {
          "output_type": "execute_result",
          "data": {
            "text/plain": [
              "7"
            ]
          },
          "metadata": {},
          "execution_count": 16
        }
      ]
    },
    {
      "cell_type": "code",
      "source": [
        "#Vector\n",
        "vector=torch.tensor([4,5])\n",
        "vector\n"
      ],
      "metadata": {
        "colab": {
          "base_uri": "https://localhost:8080/"
        },
        "id": "_rH_MfLS6k53",
        "outputId": "7a529b74-06f3-4440-9d9c-fc9a2370afed"
      },
      "execution_count": null,
      "outputs": [
        {
          "output_type": "execute_result",
          "data": {
            "text/plain": [
              "tensor([4, 5])"
            ]
          },
          "metadata": {},
          "execution_count": 17
        }
      ]
    },
    {
      "cell_type": "code",
      "source": [
        "vector.ndim\n",
        "\n"
      ],
      "metadata": {
        "colab": {
          "base_uri": "https://localhost:8080/"
        },
        "id": "lkvVdjUQ73LI",
        "outputId": "37e68a2b-9983-4de4-a122-fb0f23bf23be"
      },
      "execution_count": null,
      "outputs": [
        {
          "output_type": "execute_result",
          "data": {
            "text/plain": [
              "1"
            ]
          },
          "metadata": {},
          "execution_count": 18
        }
      ]
    },
    {
      "cell_type": "code",
      "source": [
        "vector.shape\n"
      ],
      "metadata": {
        "colab": {
          "base_uri": "https://localhost:8080/"
        },
        "id": "NlckdJ1V8MWZ",
        "outputId": "79a76489-8c98-4bec-ae43-7655267ac022"
      },
      "execution_count": null,
      "outputs": [
        {
          "output_type": "execute_result",
          "data": {
            "text/plain": [
              "torch.Size([2])"
            ]
          },
          "metadata": {},
          "execution_count": 19
        }
      ]
    },
    {
      "cell_type": "code",
      "source": [
        "#Matrix\n",
        "Matrix=torch.tensor([[7,8],\n",
        "                     [4,5]])\n",
        "Matrix\n"
      ],
      "metadata": {
        "colab": {
          "base_uri": "https://localhost:8080/"
        },
        "id": "2GM8FlXU8Vwq",
        "outputId": "66f91aeb-d6bf-48a1-a617-04f2dd275388"
      },
      "execution_count": null,
      "outputs": [
        {
          "output_type": "execute_result",
          "data": {
            "text/plain": [
              "tensor([[7, 8],\n",
              "        [4, 5]])"
            ]
          },
          "metadata": {},
          "execution_count": 20
        }
      ]
    },
    {
      "cell_type": "code",
      "source": [
        "Matrix.ndim"
      ],
      "metadata": {
        "colab": {
          "base_uri": "https://localhost:8080/"
        },
        "id": "eL6YCmZT82lR",
        "outputId": "7e4d38cf-5351-4b10-b3da-8f55ab04e885"
      },
      "execution_count": null,
      "outputs": [
        {
          "output_type": "execute_result",
          "data": {
            "text/plain": [
              "2"
            ]
          },
          "metadata": {},
          "execution_count": 21
        }
      ]
    },
    {
      "cell_type": "code",
      "source": [
        "Matrix[1]"
      ],
      "metadata": {
        "colab": {
          "base_uri": "https://localhost:8080/"
        },
        "id": "Sm90QqB_9Dwo",
        "outputId": "c5c9c9b4-d74a-40c9-ee01-789306de66fd"
      },
      "execution_count": null,
      "outputs": [
        {
          "output_type": "execute_result",
          "data": {
            "text/plain": [
              "tensor([4, 5])"
            ]
          },
          "metadata": {},
          "execution_count": 22
        }
      ]
    },
    {
      "cell_type": "code",
      "source": [
        "Matrix.shape"
      ],
      "metadata": {
        "colab": {
          "base_uri": "https://localhost:8080/"
        },
        "id": "b-rTpaoL9Ocg",
        "outputId": "db8d0406-a833-4757-9ade-f43a5f3a8e43"
      },
      "execution_count": null,
      "outputs": [
        {
          "output_type": "execute_result",
          "data": {
            "text/plain": [
              "torch.Size([2, 2])"
            ]
          },
          "metadata": {},
          "execution_count": 23
        }
      ]
    },
    {
      "cell_type": "code",
      "source": [
        "#Tensor\n",
        "\n",
        "Tensor=torch.tensor([[[1,2,3],\n",
        "                      [4,5,6],\n",
        "                      [7,8,9]],[[7,8,9],[4,5,6],[1,2,3]]])"
      ],
      "metadata": {
        "id": "OA8kJbos9KY3"
      },
      "execution_count": null,
      "outputs": []
    },
    {
      "cell_type": "code",
      "source": [
        "Tensor.shape"
      ],
      "metadata": {
        "colab": {
          "base_uri": "https://localhost:8080/"
        },
        "id": "BIL_Aqrt_4xH",
        "outputId": "c245349e-5f9b-4791-c474-271fc344d421"
      },
      "execution_count": null,
      "outputs": [
        {
          "output_type": "execute_result",
          "data": {
            "text/plain": [
              "torch.Size([2, 3, 3])"
            ]
          },
          "metadata": {},
          "execution_count": 25
        }
      ]
    },
    {
      "cell_type": "code",
      "source": [
        "Tensor[1,0]"
      ],
      "metadata": {
        "colab": {
          "base_uri": "https://localhost:8080/"
        },
        "id": "mDWHanFh_7ND",
        "outputId": "e124a7cd-0c89-4b15-ebab-5886d9e703ad"
      },
      "execution_count": null,
      "outputs": [
        {
          "output_type": "execute_result",
          "data": {
            "text/plain": [
              "tensor([7, 8, 9])"
            ]
          },
          "metadata": {},
          "execution_count": 26
        }
      ]
    },
    {
      "cell_type": "markdown",
      "source": [
        "### Random Tensor\n",
        "\n",
        "Why Random Tensor?\n",
        "\n",
        "Random Tensor are important beacause the way many Neuarl Network work learn is that They start with tensor full of random number and then update the random number to represent data in better way.\n",
        "\n",
        "`strat with random number -> Look at data -> Update the random Random -> Look at data -> Update the random Random`\n",
        "\n",
        "https://pytorch.org/docs/stable/generated/torch.rand.html\n"
      ],
      "metadata": {
        "id": "49KUOQ90ARWQ"
      }
    },
    {
      "cell_type": "code",
      "source": [
        "# Create the random Tensor\n",
        "random_tensor=torch.rand(2,2,4,5)\n",
        "random_tensor"
      ],
      "metadata": {
        "colab": {
          "base_uri": "https://localhost:8080/"
        },
        "id": "mG28B_ogARZq",
        "outputId": "33e04168-5f6d-4935-d210-d8d0e8f6f938"
      },
      "execution_count": null,
      "outputs": [
        {
          "output_type": "execute_result",
          "data": {
            "text/plain": [
              "tensor([[[[0.8529, 0.0371, 0.5449, 0.8835, 0.4288],\n",
              "          [0.2770, 0.2100, 0.4999, 0.4741, 0.3636],\n",
              "          [0.0629, 0.0079, 0.4197, 0.3737, 0.8530],\n",
              "          [0.6228, 0.7582, 0.8800, 0.1445, 0.6934]],\n",
              "\n",
              "         [[0.0175, 0.1359, 0.6423, 0.3190, 0.7890],\n",
              "          [0.9113, 0.4360, 0.8676, 0.7573, 0.1962],\n",
              "          [0.6909, 0.7253, 0.8036, 0.8862, 0.2953],\n",
              "          [0.8813, 0.7131, 0.8194, 0.5944, 0.1300]]],\n",
              "\n",
              "\n",
              "        [[[0.2913, 0.0413, 0.9994, 0.6109, 0.7803],\n",
              "          [0.1396, 0.0598, 0.8662, 0.3042, 0.6068],\n",
              "          [0.3369, 0.8818, 0.3109, 0.1887, 0.2012],\n",
              "          [0.5871, 0.8653, 0.4973, 0.9352, 0.4504]],\n",
              "\n",
              "         [[0.4300, 0.7461, 0.0622, 0.8014, 0.4629],\n",
              "          [0.1812, 0.6907, 0.3256, 0.1296, 0.5328],\n",
              "          [0.3672, 0.4465, 0.9240, 0.7066, 0.6622],\n",
              "          [0.1291, 0.8969, 0.1607, 0.9845, 0.9585]]]])"
            ]
          },
          "metadata": {},
          "execution_count": 27
        }
      ]
    },
    {
      "cell_type": "code",
      "source": [
        "random_tensor.ndim"
      ],
      "metadata": {
        "colab": {
          "base_uri": "https://localhost:8080/"
        },
        "id": "p3MTKPjVElYF",
        "outputId": "ac5aa0ae-6701-49cf-ffb3-ddf671274e24"
      },
      "execution_count": null,
      "outputs": [
        {
          "output_type": "execute_result",
          "data": {
            "text/plain": [
              "4"
            ]
          },
          "metadata": {},
          "execution_count": 28
        }
      ]
    },
    {
      "cell_type": "code",
      "source": [
        "#Craeting Random tensor as the same size of image data\n",
        "\n",
        "random_tensor_image=torch.rand(size=(256,256,3))  #(width,height,color(R,G,B))\n",
        "random_tensor_image.shape"
      ],
      "metadata": {
        "colab": {
          "base_uri": "https://localhost:8080/"
        },
        "id": "o0_1tNf6FaBL",
        "outputId": "8ce9068d-a373-4034-a1d7-7daafdd5c52f"
      },
      "execution_count": null,
      "outputs": [
        {
          "output_type": "execute_result",
          "data": {
            "text/plain": [
              "torch.Size([256, 256, 3])"
            ]
          },
          "metadata": {},
          "execution_count": 29
        }
      ]
    },
    {
      "cell_type": "markdown",
      "source": [
        "###Zeros and Ones"
      ],
      "metadata": {
        "id": "iMshfLjhGo3s"
      }
    },
    {
      "cell_type": "code",
      "source": [
        "#Create random number with zeros\n",
        "zero=torch.zeros(3,4)\n",
        "zero"
      ],
      "metadata": {
        "colab": {
          "base_uri": "https://localhost:8080/"
        },
        "id": "GL1zCgM9GtTv",
        "outputId": "0e9d21f7-f627-48e8-b917-80571f1f4edb"
      },
      "execution_count": null,
      "outputs": [
        {
          "output_type": "execute_result",
          "data": {
            "text/plain": [
              "tensor([[0., 0., 0., 0.],\n",
              "        [0., 0., 0., 0.],\n",
              "        [0., 0., 0., 0.]])"
            ]
          },
          "metadata": {},
          "execution_count": 30
        }
      ]
    },
    {
      "cell_type": "code",
      "source": [
        "#Create the random number with ones\n",
        "ones=torch.ones(3,4)\n",
        "ones"
      ],
      "metadata": {
        "colab": {
          "base_uri": "https://localhost:8080/"
        },
        "id": "mxK4fgH-G_ai",
        "outputId": "82bf6d66-be9c-4d93-ede0-ed7735cb5371"
      },
      "execution_count": null,
      "outputs": [
        {
          "output_type": "execute_result",
          "data": {
            "text/plain": [
              "tensor([[1., 1., 1., 1.],\n",
              "        [1., 1., 1., 1.],\n",
              "        [1., 1., 1., 1.]])"
            ]
          },
          "metadata": {},
          "execution_count": 31
        }
      ]
    },
    {
      "cell_type": "markdown",
      "source": [
        "###Creating a range of tensor"
      ],
      "metadata": {
        "id": "xY2MggEbIKzn"
      }
    },
    {
      "cell_type": "code",
      "source": [
        "#craete a range of number\n",
        "one_to_ten=torch.arange(1,11,1)\n",
        "one_to_ten"
      ],
      "metadata": {
        "colab": {
          "base_uri": "https://localhost:8080/"
        },
        "id": "Jqp0dV-iIgi9",
        "outputId": "ffc6a80a-df5b-4adb-c665-0d2200af788a"
      },
      "execution_count": null,
      "outputs": [
        {
          "output_type": "execute_result",
          "data": {
            "text/plain": [
              "tensor([ 1,  2,  3,  4,  5,  6,  7,  8,  9, 10])"
            ]
          },
          "metadata": {},
          "execution_count": 32
        }
      ]
    },
    {
      "cell_type": "code",
      "source": [
        "#Create the tensor like\n",
        "ten_zeros=torch.zeros_like(input=(one_to_ten))\n",
        "ten_zeros"
      ],
      "metadata": {
        "colab": {
          "base_uri": "https://localhost:8080/"
        },
        "id": "12RRh1ZpJiQW",
        "outputId": "f97482d8-e5be-44ff-ca5d-f11f06a77b76"
      },
      "execution_count": null,
      "outputs": [
        {
          "output_type": "execute_result",
          "data": {
            "text/plain": [
              "tensor([0, 0, 0, 0, 0, 0, 0, 0, 0, 0])"
            ]
          },
          "metadata": {},
          "execution_count": 33
        }
      ]
    },
    {
      "cell_type": "markdown",
      "source": [
        "### Tenson DataType\n",
        "**Note:** Tensor causes 3 common type of error.\n",
        "1. Tensors are not same data type\n",
        "2. Tensors are not same shape\n",
        "3. Tensors are not Same type of device\n",
        "\n",
        "https://pytorch.org/docs/stable/tensors.html"
      ],
      "metadata": {
        "id": "YypkCi6Ie11x"
      }
    },
    {
      "cell_type": "code",
      "source": [
        " # Data Type\n",
        " tensor_float_32=torch.tensor([3.0,4.0,5.0],\n",
        "                                            dtype=None,\n",
        "                                            device=None,\n",
        "                                            requires_grad=False)# wheather or not to track gradient with this tensor"
      ],
      "metadata": {
        "id": "eGZfHgxBeaMk"
      },
      "execution_count": null,
      "outputs": []
    },
    {
      "cell_type": "code",
      "source": [
        "tensor_float_32.dtype"
      ],
      "metadata": {
        "colab": {
          "base_uri": "https://localhost:8080/"
        },
        "id": "k_wQcSJegykt",
        "outputId": "e1c233ca-bc64-405a-e9c8-ca0da50f6e5a"
      },
      "execution_count": null,
      "outputs": [
        {
          "output_type": "execute_result",
          "data": {
            "text/plain": [
              "torch.float32"
            ]
          },
          "metadata": {},
          "execution_count": 35
        }
      ]
    },
    {
      "cell_type": "code",
      "source": [
        "tensor_float_16=tensor_float_32.type(torch.float16)\n",
        "tensor_float_16"
      ],
      "metadata": {
        "colab": {
          "base_uri": "https://localhost:8080/"
        },
        "id": "13YE45y_g9nS",
        "outputId": "da82838a-2d89-459c-a09f-e99180c7bc3f"
      },
      "execution_count": null,
      "outputs": [
        {
          "output_type": "execute_result",
          "data": {
            "text/plain": [
              "tensor([3., 4., 5.], dtype=torch.float16)"
            ]
          },
          "metadata": {},
          "execution_count": 36
        }
      ]
    },
    {
      "cell_type": "code",
      "source": [
        "int_32_tensor=torch.tensor([23,12,78],dtype=torch.int32)\n",
        "int_32_tensor"
      ],
      "metadata": {
        "colab": {
          "base_uri": "https://localhost:8080/"
        },
        "id": "0ahtQvjHi4rh",
        "outputId": "4995765e-720e-4865-8c45-f93e88ae3807"
      },
      "execution_count": null,
      "outputs": [
        {
          "output_type": "execute_result",
          "data": {
            "text/plain": [
              "tensor([23, 12, 78], dtype=torch.int32)"
            ]
          },
          "metadata": {},
          "execution_count": 37
        }
      ]
    },
    {
      "cell_type": "code",
      "source": [
        "tensor_float_32*int_32_tensor"
      ],
      "metadata": {
        "colab": {
          "base_uri": "https://localhost:8080/"
        },
        "id": "9Tp2WLVCjVkG",
        "outputId": "ac04e169-73e0-4ebb-a6bb-6f7790cb770e"
      },
      "execution_count": null,
      "outputs": [
        {
          "output_type": "execute_result",
          "data": {
            "text/plain": [
              "tensor([ 69.,  48., 390.])"
            ]
          },
          "metadata": {},
          "execution_count": 38
        }
      ]
    },
    {
      "cell_type": "markdown",
      "source": [
        "### Getting Information from Tensors\n",
        "\n",
        "1. Tensors are not same data type->To get data type from tensor, we can use `tensor.dtype`\n",
        "2. Tensors are not same shape-> To get shape of the tensor, we can use `tensor.Shape`\n",
        "3. Tensors are not Same type of device->To get Device name of the tensor,we can use `tensor.device`"
      ],
      "metadata": {
        "id": "sdvwe5E0kCKj"
      }
    },
    {
      "cell_type": "code",
      "source": [
        "#create a tensor\n",
        "\n",
        "some_tensor=torch.rand(3,4)\n",
        "some_tensor"
      ],
      "metadata": {
        "id": "_VsSA5f6k5WV",
        "colab": {
          "base_uri": "https://localhost:8080/"
        },
        "outputId": "674e7817-65e6-47a7-beeb-dd844a7920e3"
      },
      "execution_count": null,
      "outputs": [
        {
          "output_type": "execute_result",
          "data": {
            "text/plain": [
              "tensor([[0.9150, 0.7498, 0.2431, 0.5474],\n",
              "        [0.3364, 0.7409, 0.2928, 0.0190],\n",
              "        [0.5054, 0.1738, 0.1209, 0.0792]])"
            ]
          },
          "metadata": {},
          "execution_count": 39
        }
      ]
    },
    {
      "cell_type": "code",
      "source": [
        "#find out detail about some_tensor\n",
        "print(f\"Data Type of tensor:{some_tensor.dtype}\")\n",
        "print(f\"Shape of the Tensor :{some_tensor.shape}\")\n",
        "print(f\"Device tensoris on :{some_tensor.device}\")"
      ],
      "metadata": {
        "colab": {
          "base_uri": "https://localhost:8080/"
        },
        "id": "sKBQdOKQrLYs",
        "outputId": "e8204cdd-197b-413b-b315-0de3d9445568"
      },
      "execution_count": null,
      "outputs": [
        {
          "output_type": "stream",
          "name": "stdout",
          "text": [
            "Data Type of tensor:torch.float32\n",
            "Shape of the Tensor :torch.Size([3, 4])\n",
            "Device tensoris on :cpu\n"
          ]
        }
      ]
    },
    {
      "cell_type": "markdown",
      "source": [
        "### Manipulating Tensors (Tensor Operations)\n",
        " Tensor Operations Include\n",
        " * Addition\n",
        " * Subtraction\n",
        " * Multiplication(Element Wise)\n",
        " * Division\n",
        " * Matrix Multiplication -> https://www.mathsisfun.com/algebra/matrix-multiplying.html"
      ],
      "metadata": {
        "id": "dQrBKVB1tALb"
      }
    },
    {
      "cell_type": "code",
      "source": [
        "# create Tensor and add 10 to tensor\n",
        "tensor=torch.tensor([1,2,3])\n",
        "tensor+10\n"
      ],
      "metadata": {
        "colab": {
          "base_uri": "https://localhost:8080/"
        },
        "id": "3ouzf7Pat7zh",
        "outputId": "79eb3f73-48e5-4acd-e396-152e53f1e706"
      },
      "execution_count": null,
      "outputs": [
        {
          "output_type": "execute_result",
          "data": {
            "text/plain": [
              "tensor([11, 12, 13])"
            ]
          },
          "metadata": {},
          "execution_count": 41
        }
      ]
    },
    {
      "cell_type": "code",
      "source": [
        "#Subtract 20 from tensor\n",
        "tensor-20\n"
      ],
      "metadata": {
        "colab": {
          "base_uri": "https://localhost:8080/"
        },
        "id": "RwJMVsGJunAN",
        "outputId": "5f463d96-ef16-4217-832b-6d0e3bc5a334"
      },
      "execution_count": null,
      "outputs": [
        {
          "output_type": "execute_result",
          "data": {
            "text/plain": [
              "tensor([-19, -18, -17])"
            ]
          },
          "metadata": {},
          "execution_count": 42
        }
      ]
    },
    {
      "cell_type": "code",
      "source": [
        "#Multiply by 10 to tensor\n",
        "tensor * 10"
      ],
      "metadata": {
        "colab": {
          "base_uri": "https://localhost:8080/"
        },
        "id": "KUsLrQj6u7gM",
        "outputId": "e4ee4b41-bf27-43fc-b5df-8a50b8838c4e"
      },
      "execution_count": null,
      "outputs": [
        {
          "output_type": "execute_result",
          "data": {
            "text/plain": [
              "tensor([10, 20, 30])"
            ]
          },
          "metadata": {},
          "execution_count": 43
        }
      ]
    },
    {
      "cell_type": "code",
      "source": [
        "#Multiplication using in-built funtion\n",
        "\n",
        "torch.mul(tensor,2)  #torch.add(tensor,5)"
      ],
      "metadata": {
        "colab": {
          "base_uri": "https://localhost:8080/"
        },
        "id": "gBFaq8LQwWiP",
        "outputId": "9a49ee23-d810-462c-c249-5dcdc9a5bcb1"
      },
      "execution_count": null,
      "outputs": [
        {
          "output_type": "execute_result",
          "data": {
            "text/plain": [
              "tensor([2, 4, 6])"
            ]
          },
          "metadata": {},
          "execution_count": 44
        }
      ]
    },
    {
      "cell_type": "code",
      "source": [
        "#Element wise matrix multiplication\n",
        "print(tensor,'*',tensor)\n",
        "print(f\"={tensor * tensor}\")"
      ],
      "metadata": {
        "colab": {
          "base_uri": "https://localhost:8080/"
        },
        "id": "CCVTqtZwygh_",
        "outputId": "91761cd2-d53e-4464-e2c0-ae344d5122c6"
      },
      "execution_count": null,
      "outputs": [
        {
          "output_type": "stream",
          "name": "stdout",
          "text": [
            "tensor([1, 2, 3]) * tensor([1, 2, 3])\n",
            "=tensor([1, 4, 9])\n"
          ]
        }
      ]
    },
    {
      "cell_type": "code",
      "source": [
        "#Dot Product of tensors\n",
        "torch.matmul(tensor,tensor)  # 1*1 + 2*2 + 3*3 = 14"
      ],
      "metadata": {
        "colab": {
          "base_uri": "https://localhost:8080/"
        },
        "id": "Uc5yRwNiygsw",
        "outputId": "873601e0-1a83-47a2-a99a-fba7e5b246c9"
      },
      "execution_count": null,
      "outputs": [
        {
          "output_type": "execute_result",
          "data": {
            "text/plain": [
              "tensor(14)"
            ]
          },
          "metadata": {},
          "execution_count": 46
        }
      ]
    },
    {
      "cell_type": "code",
      "source": [
        "%%time\n",
        "value=0\n",
        "for i in range(len(tensor)):\n",
        "  value+=tensor[i]*tensor[i]\n",
        "print(value)"
      ],
      "metadata": {
        "colab": {
          "base_uri": "https://localhost:8080/"
        },
        "id": "o1pgig_C0s6D",
        "outputId": "707403b0-0775-49b7-b075-36a114d9597f"
      },
      "execution_count": null,
      "outputs": [
        {
          "output_type": "stream",
          "name": "stdout",
          "text": [
            "tensor(14)\n",
            "CPU times: user 4.57 ms, sys: 198 µs, total: 4.77 ms\n",
            "Wall time: 31 ms\n"
          ]
        }
      ]
    },
    {
      "cell_type": "code",
      "source": [
        "%%time\n",
        "print(torch.matmul(tensor,tensor))"
      ],
      "metadata": {
        "colab": {
          "base_uri": "https://localhost:8080/"
        },
        "id": "zhwZkyti1GlI",
        "outputId": "9af2430c-4c71-45be-90d9-75291243161b"
      },
      "execution_count": null,
      "outputs": [
        {
          "output_type": "stream",
          "name": "stdout",
          "text": [
            "tensor(14)\n",
            "CPU times: user 3.43 ms, sys: 52 µs, total: 3.48 ms\n",
            "Wall time: 9.39 ms\n"
          ]
        }
      ]
    },
    {
      "cell_type": "markdown",
      "source": [
        "*Transpose*"
      ],
      "metadata": {
        "id": "92vCWbZ93sS7"
      }
    },
    {
      "cell_type": "code",
      "source": [
        "tensor=torch.rand(2,3)\n",
        "tensor=tensor.T\n",
        "print(tensor.shape)"
      ],
      "metadata": {
        "colab": {
          "base_uri": "https://localhost:8080/"
        },
        "id": "L9ySjjid3mKn",
        "outputId": "e8eb761c-84dc-4046-e36a-f6a18009fa05"
      },
      "execution_count": null,
      "outputs": [
        {
          "output_type": "stream",
          "name": "stdout",
          "text": [
            "torch.Size([3, 2])\n"
          ]
        }
      ]
    },
    {
      "cell_type": "markdown",
      "source": [
        "## Find the min, max, mean, sum etc(Tensor Aggregation)"
      ],
      "metadata": {
        "id": "K5wvpRUL48Ao"
      }
    },
    {
      "cell_type": "code",
      "source": [
        "#Create a tensor\n",
        "x=torch.arange(0,100,10)\n",
        "x"
      ],
      "metadata": {
        "colab": {
          "base_uri": "https://localhost:8080/"
        },
        "id": "jPsMzxk85Vw5",
        "outputId": "11d2f25e-25e5-4f20-a476-b4cf9b4eaef8"
      },
      "execution_count": null,
      "outputs": [
        {
          "output_type": "execute_result",
          "data": {
            "text/plain": [
              "tensor([ 0, 10, 20, 30, 40, 50, 60, 70, 80, 90])"
            ]
          },
          "metadata": {},
          "execution_count": 50
        }
      ]
    },
    {
      "cell_type": "code",
      "source": [
        "# Find the min\n",
        "torch.min(x),x.min()"
      ],
      "metadata": {
        "colab": {
          "base_uri": "https://localhost:8080/"
        },
        "id": "35_Z33aB5xO_",
        "outputId": "6a0ab860-b6bc-473d-866c-665370fa79ce"
      },
      "execution_count": null,
      "outputs": [
        {
          "output_type": "execute_result",
          "data": {
            "text/plain": [
              "(tensor(0), tensor(0))"
            ]
          },
          "metadata": {},
          "execution_count": 51
        }
      ]
    },
    {
      "cell_type": "code",
      "source": [
        "#Find the Maximum\n",
        "torch.max(x),x.max()"
      ],
      "metadata": {
        "colab": {
          "base_uri": "https://localhost:8080/"
        },
        "id": "WzqPCAZP57UU",
        "outputId": "faea60a4-d565-4114-c30d-591cf676670a"
      },
      "execution_count": null,
      "outputs": [
        {
          "output_type": "execute_result",
          "data": {
            "text/plain": [
              "(tensor(90), tensor(90))"
            ]
          },
          "metadata": {},
          "execution_count": 52
        }
      ]
    },
    {
      "cell_type": "code",
      "source": [
        "#Find the mean  --> note : torch.mean() require float32 datatype\n",
        "\n",
        "torch.mean(x.type(torch.float32)),x.type(torch.float32).mean()"
      ],
      "metadata": {
        "colab": {
          "base_uri": "https://localhost:8080/"
        },
        "id": "wh9We4Kp57au",
        "outputId": "704d0acf-9c71-4544-8fd3-3002809ceadb"
      },
      "execution_count": null,
      "outputs": [
        {
          "output_type": "execute_result",
          "data": {
            "text/plain": [
              "(tensor(45.), tensor(45.))"
            ]
          },
          "metadata": {},
          "execution_count": 53
        }
      ]
    },
    {
      "cell_type": "code",
      "source": [
        "#Find The sum\n",
        "torch.sum(x),x.sum()"
      ],
      "metadata": {
        "colab": {
          "base_uri": "https://localhost:8080/"
        },
        "id": "DlBAd5vV7-o3",
        "outputId": "b098de45-c964-4576-8f11-5667196f97e4"
      },
      "execution_count": null,
      "outputs": [
        {
          "output_type": "execute_result",
          "data": {
            "text/plain": [
              "(tensor(450), tensor(450))"
            ]
          },
          "metadata": {},
          "execution_count": 54
        }
      ]
    },
    {
      "cell_type": "markdown",
      "source": [
        "##Finding The positional min and max"
      ],
      "metadata": {
        "id": "RtRJp4Mr_tqF"
      }
    },
    {
      "cell_type": "code",
      "source": [
        "x"
      ],
      "metadata": {
        "colab": {
          "base_uri": "https://localhost:8080/"
        },
        "id": "VaRsI4Z2_2bo",
        "outputId": "5e14545b-03bc-4002-ae3e-d71e8142c248"
      },
      "execution_count": null,
      "outputs": [
        {
          "output_type": "execute_result",
          "data": {
            "text/plain": [
              "tensor([ 0, 10, 20, 30, 40, 50, 60, 70, 80, 90])"
            ]
          },
          "metadata": {},
          "execution_count": 55
        }
      ]
    },
    {
      "cell_type": "code",
      "source": [
        "#Finding the position of  minimum value in tensor\n",
        "x.argmin()"
      ],
      "metadata": {
        "colab": {
          "base_uri": "https://localhost:8080/"
        },
        "id": "cps1xOJv_5h3",
        "outputId": "112b5c29-418c-4e38-b99b-d0c0235db26b"
      },
      "execution_count": null,
      "outputs": [
        {
          "output_type": "execute_result",
          "data": {
            "text/plain": [
              "tensor(0)"
            ]
          },
          "metadata": {},
          "execution_count": 56
        }
      ]
    },
    {
      "cell_type": "code",
      "source": [
        "#Find the position of maximum value in tensor\n",
        "x.argmax()"
      ],
      "metadata": {
        "colab": {
          "base_uri": "https://localhost:8080/"
        },
        "id": "H-D424N4AMLx",
        "outputId": "763d055d-7704-4ddc-f2db-dcefc37faac2"
      },
      "execution_count": null,
      "outputs": [
        {
          "output_type": "execute_result",
          "data": {
            "text/plain": [
              "tensor(9)"
            ]
          },
          "metadata": {},
          "execution_count": 57
        }
      ]
    },
    {
      "cell_type": "markdown",
      "source": [
        "##Reshaping,stacking,squeezing and unsqueezing tensors\n",
        "\n",
        "* Reshaping - Changing the shape of the input tensor\n",
        "* Skacking - Concatnate the tensors side by side or vertical or horizontly\n",
        "* Sqeezing - Removeing all `1` dimentions from tensors\n",
        "* Unsqueezing - Adding a `1` dimentions to target tensors\n",
        "* View - Return a view of input tensor but keep the same  original tensors\n",
        "* Permute - Return a view of input tensor with dimension permuted in certain way(swapped)"
      ],
      "metadata": {
        "id": "6ih1aU-sBYey"
      }
    },
    {
      "cell_type": "code",
      "source": [
        "#Lets Create a tensor\n",
        "x=torch.arange(1.,10.)\n",
        "x,x.shape"
      ],
      "metadata": {
        "colab": {
          "base_uri": "https://localhost:8080/"
        },
        "id": "s-jMlSvNDYw1",
        "outputId": "629670b8-2560-4f3e-9584-67c4be26d25e"
      },
      "execution_count": null,
      "outputs": [
        {
          "output_type": "execute_result",
          "data": {
            "text/plain": [
              "(tensor([1., 2., 3., 4., 5., 6., 7., 8., 9.]), torch.Size([9]))"
            ]
          },
          "metadata": {},
          "execution_count": 58
        }
      ]
    },
    {
      "cell_type": "code",
      "source": [
        "x_reshaped=x.reshape(1,9)\n",
        "x_reshaped,x_reshaped.shape"
      ],
      "metadata": {
        "colab": {
          "base_uri": "https://localhost:8080/"
        },
        "id": "u10OIxoAHlGn",
        "outputId": "f33d08f1-a9a4-4765-9a58-8c84c2c80917"
      },
      "execution_count": null,
      "outputs": [
        {
          "output_type": "execute_result",
          "data": {
            "text/plain": [
              "(tensor([[1., 2., 3., 4., 5., 6., 7., 8., 9.]]), torch.Size([1, 9]))"
            ]
          },
          "metadata": {},
          "execution_count": 59
        }
      ]
    },
    {
      "cell_type": "code",
      "source": [
        "x_reshaped=x.reshape(9,1)\n",
        "x_reshaped,x_reshaped.shape"
      ],
      "metadata": {
        "colab": {
          "base_uri": "https://localhost:8080/"
        },
        "id": "mXIsbkqrIRJo",
        "outputId": "08af92f6-b6d1-4ebc-f2a2-3e373a3f50ea"
      },
      "execution_count": null,
      "outputs": [
        {
          "output_type": "execute_result",
          "data": {
            "text/plain": [
              "(tensor([[1.],\n",
              "         [2.],\n",
              "         [3.],\n",
              "         [4.],\n",
              "         [5.],\n",
              "         [6.],\n",
              "         [7.],\n",
              "         [8.],\n",
              "         [9.]]),\n",
              " torch.Size([9, 1]))"
            ]
          },
          "metadata": {},
          "execution_count": 60
        }
      ]
    },
    {
      "cell_type": "code",
      "source": [
        "# Change the View\n",
        "z=x.view(1,9)\n",
        "z,z.shape"
      ],
      "metadata": {
        "colab": {
          "base_uri": "https://localhost:8080/"
        },
        "id": "9txr-RDkIO9d",
        "outputId": "642fac59-746f-4ef9-ab59-c7221937fbc4"
      },
      "execution_count": null,
      "outputs": [
        {
          "output_type": "execute_result",
          "data": {
            "text/plain": [
              "(tensor([[1., 2., 3., 4., 5., 6., 7., 8., 9.]]), torch.Size([1, 9]))"
            ]
          },
          "metadata": {},
          "execution_count": 61
        }
      ]
    },
    {
      "cell_type": "code",
      "source": [
        "# Changing z change x (Since z and x are sharing the same memory)\n",
        "z[:,0]=20\n",
        "z,x"
      ],
      "metadata": {
        "colab": {
          "base_uri": "https://localhost:8080/"
        },
        "id": "pHFzZY8jJn6C",
        "outputId": "a06d8bc3-c61e-4eeb-fa0d-a812235cc695"
      },
      "execution_count": null,
      "outputs": [
        {
          "output_type": "execute_result",
          "data": {
            "text/plain": [
              "(tensor([[20.,  2.,  3.,  4.,  5.,  6.,  7.,  8.,  9.]]),\n",
              " tensor([20.,  2.,  3.,  4.,  5.,  6.,  7.,  8.,  9.]))"
            ]
          },
          "metadata": {},
          "execution_count": 62
        }
      ]
    },
    {
      "cell_type": "code",
      "source": [
        "# Stack the tensor top of each other\n",
        "x_stacked=torch.stack([x,x,x,x],dim=1)\n",
        "x_stacked"
      ],
      "metadata": {
        "colab": {
          "base_uri": "https://localhost:8080/"
        },
        "id": "ou0yDT5_Lg76",
        "outputId": "994514a1-08a5-498c-eb64-8eb0a84c822d"
      },
      "execution_count": null,
      "outputs": [
        {
          "output_type": "execute_result",
          "data": {
            "text/plain": [
              "tensor([[20., 20., 20., 20.],\n",
              "        [ 2.,  2.,  2.,  2.],\n",
              "        [ 3.,  3.,  3.,  3.],\n",
              "        [ 4.,  4.,  4.,  4.],\n",
              "        [ 5.,  5.,  5.,  5.],\n",
              "        [ 6.,  6.,  6.,  6.],\n",
              "        [ 7.,  7.,  7.,  7.],\n",
              "        [ 8.,  8.,  8.,  8.],\n",
              "        [ 9.,  9.,  9.,  9.]])"
            ]
          },
          "metadata": {},
          "execution_count": 63
        }
      ]
    },
    {
      "cell_type": "code",
      "source": [
        "#Squeeze the tensor\n",
        "x_reshaped=x.reshape(1,9)\n",
        "x_reshaped,x_reshaped.shape"
      ],
      "metadata": {
        "colab": {
          "base_uri": "https://localhost:8080/"
        },
        "id": "Tg5IqZRYMy0L",
        "outputId": "3bbee9c4-5373-49d1-db2f-c697c4b86ef4"
      },
      "execution_count": null,
      "outputs": [
        {
          "output_type": "execute_result",
          "data": {
            "text/plain": [
              "(tensor([[20.,  2.,  3.,  4.,  5.,  6.,  7.,  8.,  9.]]), torch.Size([1, 9]))"
            ]
          },
          "metadata": {},
          "execution_count": 64
        }
      ]
    },
    {
      "cell_type": "code",
      "source": [
        "x_squeeze=x_reshaped.squeeze()\n",
        "x_squeeze,x_squeeze.shape"
      ],
      "metadata": {
        "colab": {
          "base_uri": "https://localhost:8080/"
        },
        "id": "-25Y_JdbNbAR",
        "outputId": "ba151a63-deca-4b04-e4f6-1611080f810c"
      },
      "execution_count": null,
      "outputs": [
        {
          "output_type": "execute_result",
          "data": {
            "text/plain": [
              "(tensor([20.,  2.,  3.,  4.,  5.,  6.,  7.,  8.,  9.]), torch.Size([9]))"
            ]
          },
          "metadata": {},
          "execution_count": 65
        }
      ]
    },
    {
      "cell_type": "code",
      "source": [
        "#Unsqueeze the tensor\n",
        "x_unsqueeze=x_squeeze.unsqueeze(dim=1)\n",
        "x_unsqueeze,x_unsqueeze.shape"
      ],
      "metadata": {
        "colab": {
          "base_uri": "https://localhost:8080/"
        },
        "id": "8N-92r1-PCIc",
        "outputId": "0cf94a33-10a2-4dcd-d65b-1644cd7edfd1"
      },
      "execution_count": null,
      "outputs": [
        {
          "output_type": "execute_result",
          "data": {
            "text/plain": [
              "(tensor([[20.],\n",
              "         [ 2.],\n",
              "         [ 3.],\n",
              "         [ 4.],\n",
              "         [ 5.],\n",
              "         [ 6.],\n",
              "         [ 7.],\n",
              "         [ 8.],\n",
              "         [ 9.]]),\n",
              " torch.Size([9, 1]))"
            ]
          },
          "metadata": {},
          "execution_count": 66
        }
      ]
    },
    {
      "cell_type": "code",
      "source": [
        "# Prermute the tensor\n",
        "y=torch.rand(size=(224,224,3))   #[Height,width,color]\n",
        "print(y.shape)\n",
        "y_permuted=y.permute(2,0,1) #0->1 1->2 2->0\n",
        "print(y_permuted.shape)"
      ],
      "metadata": {
        "colab": {
          "base_uri": "https://localhost:8080/"
        },
        "id": "GBFKZp7WRso9",
        "outputId": "db0a273a-a22d-4ec9-c960-33fc032882a2"
      },
      "execution_count": null,
      "outputs": [
        {
          "output_type": "stream",
          "name": "stdout",
          "text": [
            "torch.Size([224, 224, 3])\n",
            "torch.Size([3, 224, 224])\n"
          ]
        }
      ]
    },
    {
      "cell_type": "markdown",
      "source": [
        "## Indexing(Selecting Data From Tensor)\n",
        "Indexing in tensor is similar to Numpy\n"
      ],
      "metadata": {
        "id": "mlkAT6z3kxR_"
      }
    },
    {
      "cell_type": "code",
      "source": [
        "#Lets create a tensor\n",
        "\n",
        "import torch\n",
        "x=torch.arange(1,10).reshape(1,3,3)\n",
        "x, x.shape"
      ],
      "metadata": {
        "colab": {
          "base_uri": "https://localhost:8080/"
        },
        "id": "OI7YVKiXlDQf",
        "outputId": "d9f96972-0590-4e3c-98d1-1423d33d5c00"
      },
      "execution_count": null,
      "outputs": [
        {
          "output_type": "execute_result",
          "data": {
            "text/plain": [
              "(tensor([[[1, 2, 3],\n",
              "          [4, 5, 6],\n",
              "          [7, 8, 9]]]),\n",
              " torch.Size([1, 3, 3]))"
            ]
          },
          "metadata": {},
          "execution_count": 68
        }
      ]
    },
    {
      "cell_type": "code",
      "source": [
        "#Lets Index\n",
        "x[0]"
      ],
      "metadata": {
        "colab": {
          "base_uri": "https://localhost:8080/"
        },
        "id": "9lZM4lAglES1",
        "outputId": "5ce74cf4-db19-4ce7-ac0e-38a3fa4f63b4"
      },
      "execution_count": null,
      "outputs": [
        {
          "output_type": "execute_result",
          "data": {
            "text/plain": [
              "tensor([[1, 2, 3],\n",
              "        [4, 5, 6],\n",
              "        [7, 8, 9]])"
            ]
          },
          "metadata": {},
          "execution_count": 69
        }
      ]
    },
    {
      "cell_type": "code",
      "source": [
        "#Middle Bracket\n",
        "x[0][1]"
      ],
      "metadata": {
        "colab": {
          "base_uri": "https://localhost:8080/"
        },
        "id": "SPJaW9NLmwV8",
        "outputId": "f5187be7-3c69-40a1-d71b-8a999a7681b2"
      },
      "execution_count": null,
      "outputs": [
        {
          "output_type": "execute_result",
          "data": {
            "text/plain": [
              "tensor([4, 5, 6])"
            ]
          },
          "metadata": {},
          "execution_count": 70
        }
      ]
    },
    {
      "cell_type": "code",
      "source": [
        "#Inner most Bracket\n",
        "x[0][2][0]"
      ],
      "metadata": {
        "colab": {
          "base_uri": "https://localhost:8080/"
        },
        "id": "3OCL0Je6mwZA",
        "outputId": "21086afa-7337-4579-fd8b-8d725703d9a5"
      },
      "execution_count": null,
      "outputs": [
        {
          "output_type": "execute_result",
          "data": {
            "text/plain": [
              "tensor(7)"
            ]
          },
          "metadata": {},
          "execution_count": 71
        }
      ]
    },
    {
      "cell_type": "code",
      "source": [
        "# We can also use : to get target index\n",
        "x[:,0:2,1:3]"
      ],
      "metadata": {
        "colab": {
          "base_uri": "https://localhost:8080/"
        },
        "id": "F9zCRgFbnfZB",
        "outputId": "7377a81e-0c0d-4504-b45e-fe1422c5457e"
      },
      "execution_count": null,
      "outputs": [
        {
          "output_type": "execute_result",
          "data": {
            "text/plain": [
              "tensor([[[2, 3],\n",
              "         [5, 6]]])"
            ]
          },
          "metadata": {},
          "execution_count": 72
        }
      ]
    },
    {
      "cell_type": "code",
      "source": [
        "x[:,:,1]  #Its Like selecting the columns"
      ],
      "metadata": {
        "id": "ZOk4pZDgnfce",
        "colab": {
          "base_uri": "https://localhost:8080/"
        },
        "outputId": "4f4f4b3e-c90e-4a68-da3c-51fb41fa3df0"
      },
      "execution_count": null,
      "outputs": [
        {
          "output_type": "execute_result",
          "data": {
            "text/plain": [
              "tensor([[2, 5, 8]])"
            ]
          },
          "metadata": {},
          "execution_count": 74
        }
      ]
    },
    {
      "cell_type": "code",
      "source": [
        "print(x[0,0,:]) # Its like selecting 1st row\n",
        "print(x[:,0,:])"
      ],
      "metadata": {
        "id": "_WBpOXcRnff-",
        "colab": {
          "base_uri": "https://localhost:8080/"
        },
        "outputId": "3f2d9346-2aff-498c-b7c9-9f611808c54c"
      },
      "execution_count": null,
      "outputs": [
        {
          "output_type": "stream",
          "name": "stdout",
          "text": [
            "tensor([1, 2, 3])\n",
            "tensor([[1, 2, 3]])\n"
          ]
        }
      ]
    },
    {
      "cell_type": "code",
      "source": [
        "x[0,2,:]"
      ],
      "metadata": {
        "id": "pQD0gGUXmweW",
        "colab": {
          "base_uri": "https://localhost:8080/"
        },
        "outputId": "30be8fc7-a315-4cce-9b7b-37853ff71771"
      },
      "execution_count": null,
      "outputs": [
        {
          "output_type": "execute_result",
          "data": {
            "text/plain": [
              "tensor([7, 8, 9])"
            ]
          },
          "metadata": {},
          "execution_count": 79
        }
      ]
    },
    {
      "cell_type": "markdown",
      "source": [
        "## Pytorch and Numpy\n",
        "Numpy is popular scientific python numerical libraries and beacuse of this pytorch has functionality to interact with it.\n",
        "* Numpy to Pytorch tensor-> `torch.from_numpy(ndarray)\n",
        "* Pytorch tensor to Numpy -> `torch.Tensor.numpy()"
      ],
      "metadata": {
        "id": "rBRZ_cT7t2n2"
      }
    },
    {
      "cell_type": "code",
      "source": [
        "#Numpy to Tensor\n",
        "import numpy as np\n",
        "import torch\n",
        "\n",
        "array=np.arange(1.0,10.0)\n",
        "tensor=torch.from_numpy(array)\n",
        "\n",
        "array,tensor\n",
        "\n",
        "# Note:\n",
        "# Numpy deafult data Type is float64 while for pytorch it is float32\n",
        "# Since tensor is coverting from numpy that is why its data type become float64 to maintain compatibilty\n",
        "#But we can change as:tensor=torch.from_numpy(array).type(torch.float32)"
      ],
      "metadata": {
        "colab": {
          "base_uri": "https://localhost:8080/"
        },
        "id": "j-ShijVIvBOu",
        "outputId": "d14f2a7f-11de-4fc5-bb69-a16797859527"
      },
      "execution_count": null,
      "outputs": [
        {
          "output_type": "execute_result",
          "data": {
            "text/plain": [
              "(array([1., 2., 3., 4., 5., 6., 7., 8., 9.]),\n",
              " tensor([1., 2., 3., 4., 5., 6., 7., 8., 9.], dtype=torch.float64))"
            ]
          },
          "metadata": {},
          "execution_count": 83
        }
      ]
    },
    {
      "cell_type": "code",
      "source": [
        "#Pytorch tensor to Numpy\n",
        "\n",
        "X=torch.ones(8)\n",
        "numpy_tensor=X.numpy()\n",
        "\n",
        "X,numpy_tensor\n",
        "\n",
        "# Note:\n",
        "# Numpy deafult data Type is float64 while for pytorch it is float32\n",
        "# Here numpy data type changed into float32"
      ],
      "metadata": {
        "colab": {
          "base_uri": "https://localhost:8080/"
        },
        "id": "UAXXG4wyyjOR",
        "outputId": "588a2f74-3e75-4204-e84d-d38a5bcd65d1"
      },
      "execution_count": null,
      "outputs": [
        {
          "output_type": "execute_result",
          "data": {
            "text/plain": [
              "(tensor([1., 1., 1., 1., 1., 1., 1., 1.]),\n",
              " array([1., 1., 1., 1., 1., 1., 1., 1.], dtype=float32))"
            ]
          },
          "metadata": {},
          "execution_count": 84
        }
      ]
    },
    {
      "cell_type": "markdown",
      "source": [
        "## producibility (Random seed)\n"
      ],
      "metadata": {
        "id": "PFYjWRuR4eBz"
      }
    },
    {
      "cell_type": "code",
      "source": [
        "import torch\n",
        "tensor_A=torch.rand(3,4)\n",
        "tensor_B=torch.rand(3,4)\n",
        "\n",
        "print(tensor_A==tensor_B)"
      ],
      "metadata": {
        "colab": {
          "base_uri": "https://localhost:8080/"
        },
        "id": "XYGz1Vbx4_Yo",
        "outputId": "d0a5edb6-1c6d-402f-c2df-68f26eae993e"
      },
      "execution_count": null,
      "outputs": [
        {
          "output_type": "stream",
          "name": "stdout",
          "text": [
            "tensor([[False, False, False, False],\n",
            "        [False, False, False, False],\n",
            "        [False, False, False, False]])\n"
          ]
        }
      ]
    },
    {
      "cell_type": "code",
      "source": [
        "#Set the Random seed\n",
        "\n",
        "torch.manual_seed(42)\n",
        "tensor_A=torch.rand(3,4)\n",
        "\n",
        "torch.manual_seed(42)\n",
        "tensor_B=torch.rand(3,4)\n",
        "\n",
        "print(tensor_A==tensor_B)\n",
        "\n"
      ],
      "metadata": {
        "colab": {
          "base_uri": "https://localhost:8080/"
        },
        "id": "u5cjkXxt5buS",
        "outputId": "9442ef3d-e553-474c-ba97-0e14d5cf3dbe"
      },
      "execution_count": null,
      "outputs": [
        {
          "output_type": "stream",
          "name": "stdout",
          "text": [
            "tensor([[True, True, True, True],\n",
            "        [True, True, True, True],\n",
            "        [True, True, True, True]])\n"
          ]
        }
      ]
    },
    {
      "cell_type": "markdown",
      "source": [
        "## Running Tenors and Pytorch objects on GPU\n",
        "\n"
      ],
      "metadata": {
        "id": "lcqOB4BuSnru"
      }
    },
    {
      "cell_type": "markdown",
      "source": [
        "* Use Google Colab\n",
        "* Use Cloud Computing -GCP,AWS,Azure   Allow to rent the Computers on cloud and access them"
      ],
      "metadata": {
        "id": "pLI9GBouTmoQ"
      }
    },
    {
      "cell_type": "code",
      "source": [
        "!nvidia-smi\n"
      ],
      "metadata": {
        "colab": {
          "base_uri": "https://localhost:8080/"
        },
        "id": "L4faDux_Tjty",
        "outputId": "bc7ed594-b5af-4d1b-c72f-940c95ab024c"
      },
      "execution_count": null,
      "outputs": [
        {
          "output_type": "stream",
          "name": "stdout",
          "text": [
            "Sat Sep 21 16:11:28 2024       \n",
            "+---------------------------------------------------------------------------------------+\n",
            "| NVIDIA-SMI 535.104.05             Driver Version: 535.104.05   CUDA Version: 12.2     |\n",
            "|-----------------------------------------+----------------------+----------------------+\n",
            "| GPU  Name                 Persistence-M | Bus-Id        Disp.A | Volatile Uncorr. ECC |\n",
            "| Fan  Temp   Perf          Pwr:Usage/Cap |         Memory-Usage | GPU-Util  Compute M. |\n",
            "|                                         |                      |               MIG M. |\n",
            "|=========================================+======================+======================|\n",
            "|   0  Tesla T4                       Off | 00000000:00:04.0 Off |                    0 |\n",
            "| N/A   51C    P8              10W /  70W |      0MiB / 15360MiB |      0%      Default |\n",
            "|                                         |                      |                  N/A |\n",
            "+-----------------------------------------+----------------------+----------------------+\n",
            "                                                                                         \n",
            "+---------------------------------------------------------------------------------------+\n",
            "| Processes:                                                                            |\n",
            "|  GPU   GI   CI        PID   Type   Process name                            GPU Memory |\n",
            "|        ID   ID                                                             Usage      |\n",
            "|=======================================================================================|\n",
            "|  No running processes found                                                           |\n",
            "+---------------------------------------------------------------------------------------+\n"
          ]
        }
      ]
    },
    {
      "cell_type": "code",
      "source": [
        "import torch\n",
        "torch.cuda.is_available()"
      ],
      "metadata": {
        "colab": {
          "base_uri": "https://localhost:8080/"
        },
        "id": "srk0WsoObuuZ",
        "outputId": "0de3b135-fcfe-4867-fb7f-e7714390ef83"
      },
      "execution_count": null,
      "outputs": [
        {
          "output_type": "execute_result",
          "data": {
            "text/plain": [
              "True"
            ]
          },
          "metadata": {},
          "execution_count": 2
        }
      ]
    },
    {
      "cell_type": "code",
      "source": [
        "#Setup device agnostic code\n",
        "device=\"cuda\" if torch.cuda.is_available() else \"cpu\"\n",
        "device"
      ],
      "metadata": {
        "colab": {
          "base_uri": "https://localhost:8080/",
          "height": 35
        },
        "id": "PhumLq9ncGJN",
        "outputId": "b01c841c-52ee-4b1a-86c0-d29f45c85a14"
      },
      "execution_count": null,
      "outputs": [
        {
          "output_type": "execute_result",
          "data": {
            "text/plain": [
              "'cuda'"
            ],
            "application/vnd.google.colaboratory.intrinsic+json": {
              "type": "string"
            }
          },
          "metadata": {},
          "execution_count": 3
        }
      ]
    },
    {
      "cell_type": "code",
      "source": [
        "#Count Number of devices\n",
        "torch.cuda.device_count()"
      ],
      "metadata": {
        "colab": {
          "base_uri": "https://localhost:8080/"
        },
        "id": "puASxb92cGYK",
        "outputId": "ba4201bd-d5c9-4e69-bd92-535453fe581e"
      },
      "execution_count": null,
      "outputs": [
        {
          "output_type": "execute_result",
          "data": {
            "text/plain": [
              "1"
            ]
          },
          "metadata": {},
          "execution_count": 4
        }
      ]
    },
    {
      "cell_type": "markdown",
      "source": [
        "\n",
        "###  Putting tensors (and models) on the GPU\n",
        "\n"
      ],
      "metadata": {
        "id": "ue6VCsXu5OLI"
      }
    },
    {
      "cell_type": "code",
      "source": [
        "# Create tensor (default on CPU)\n",
        "tensor = torch.tensor([1, 2, 3])\n",
        "\n",
        "# Tensor not on GPU\n",
        "print(tensor, tensor.device)\n",
        "\n",
        "# Move tensor to GPU (if available)\n",
        "tensor_on_gpu = tensor.to(device)\n",
        "tensor_on_gpu"
      ],
      "metadata": {
        "id": "x6J5aWqqcGbq",
        "colab": {
          "base_uri": "https://localhost:8080/"
        },
        "outputId": "f4be50ca-abd8-4906-ed87-923b3c72b63b"
      },
      "execution_count": null,
      "outputs": [
        {
          "output_type": "stream",
          "name": "stdout",
          "text": [
            "tensor([1, 2, 3]) cpu\n"
          ]
        },
        {
          "output_type": "execute_result",
          "data": {
            "text/plain": [
              "tensor([1, 2, 3], device='cuda:0')"
            ]
          },
          "metadata": {},
          "execution_count": 5
        }
      ]
    },
    {
      "cell_type": "markdown",
      "source": [
        "Notice the second tensor has device='cuda:0', this means it's stored on the 0th GPU available (GPUs are 0 indexed, if two GPUs were available, they'd be 'cuda:0' and 'cuda:1' respectively, up to 'cuda:n')."
      ],
      "metadata": {
        "id": "lyoF4g9W5izx"
      }
    },
    {
      "cell_type": "markdown",
      "source": [
        "### Moving tensors back to the CPU\n",
        "\n",
        "What if we wanted to move the tensor back to CPU?\n",
        "\n",
        "For example, you'll want to do this if you want to interact with your tensors with NumPy (NumPy does not leverage the GPU).\n",
        "\n",
        "Let's try using the `torch.Tensor.numpy()` method on our tensor_on_gpu."
      ],
      "metadata": {
        "id": "WJ8VTEMs5smp"
      }
    },
    {
      "cell_type": "code",
      "source": [
        "# If tensor is on GPU, can't transform it to NumPy (this will error)\n",
        "tensor_on_gpu.numpy()"
      ],
      "metadata": {
        "colab": {
          "base_uri": "https://localhost:8080/",
          "height": 158
        },
        "id": "i_yA_QGn5rWY",
        "outputId": "415023b8-bb08-4559-977d-9a594cb724a9"
      },
      "execution_count": null,
      "outputs": [
        {
          "output_type": "error",
          "ename": "TypeError",
          "evalue": "can't convert cuda:0 device type tensor to numpy. Use Tensor.cpu() to copy the tensor to host memory first.",
          "traceback": [
            "\u001b[0;31m---------------------------------------------------------------------------\u001b[0m",
            "\u001b[0;31mTypeError\u001b[0m                                 Traceback (most recent call last)",
            "\u001b[0;32m<ipython-input-6-53175578f49e>\u001b[0m in \u001b[0;36m<cell line: 2>\u001b[0;34m()\u001b[0m\n\u001b[1;32m      1\u001b[0m \u001b[0;31m# If tensor is on GPU, can't transform it to NumPy (this will error)\u001b[0m\u001b[0;34m\u001b[0m\u001b[0;34m\u001b[0m\u001b[0m\n\u001b[0;32m----> 2\u001b[0;31m \u001b[0mtensor_on_gpu\u001b[0m\u001b[0;34m.\u001b[0m\u001b[0mnumpy\u001b[0m\u001b[0;34m(\u001b[0m\u001b[0;34m)\u001b[0m\u001b[0;34m\u001b[0m\u001b[0;34m\u001b[0m\u001b[0m\n\u001b[0m",
            "\u001b[0;31mTypeError\u001b[0m: can't convert cuda:0 device type tensor to numpy. Use Tensor.cpu() to copy the tensor to host memory first."
          ]
        }
      ]
    },
    {
      "cell_type": "code",
      "source": [
        "# Instead, copy the tensor back to cpu\n",
        "tensor_back_on_cpu = tensor_on_gpu.cpu().numpy()\n",
        "tensor_back_on_cpu"
      ],
      "metadata": {
        "colab": {
          "base_uri": "https://localhost:8080/"
        },
        "id": "iWEEHlVL6Bn1",
        "outputId": "0a86c4b3-9a93-45ea-9451-1bfeafd8fcf3"
      },
      "execution_count": null,
      "outputs": [
        {
          "output_type": "execute_result",
          "data": {
            "text/plain": [
              "array([1, 2, 3])"
            ]
          },
          "metadata": {},
          "execution_count": 7
        }
      ]
    }
  ]
}